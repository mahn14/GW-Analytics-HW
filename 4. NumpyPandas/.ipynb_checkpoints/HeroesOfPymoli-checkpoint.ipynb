{
 "cells": [
  {
   "cell_type": "markdown",
   "metadata": {},
   "source": [
    "# Homework 4: Heroes of Pymoli"
   ]
  },
  {
   "cell_type": "markdown",
   "metadata": {},
   "source": [
    "### Imports and Data"
   ]
  },
  {
   "cell_type": "code",
   "execution_count": 1,
   "metadata": {},
   "outputs": [],
   "source": [
    "import pandas as pd \n",
    "import numpy as np\n",
    "import json\n",
    "data = pd.read_json('purchase_data.json')"
   ]
  },
  {
   "cell_type": "markdown",
   "metadata": {},
   "source": [
    "### Player Count"
   ]
  },
  {
   "cell_type": "code",
   "execution_count": 2,
   "metadata": {},
   "outputs": [
    {
     "data": {
      "text/html": [
       "<div>\n",
       "<style scoped>\n",
       "    .dataframe tbody tr th:only-of-type {\n",
       "        vertical-align: middle;\n",
       "    }\n",
       "\n",
       "    .dataframe tbody tr th {\n",
       "        vertical-align: top;\n",
       "    }\n",
       "\n",
       "    .dataframe thead th {\n",
       "        text-align: right;\n",
       "    }\n",
       "</style>\n",
       "<table border=\"1\" class=\"dataframe\">\n",
       "  <thead>\n",
       "    <tr style=\"text-align: right;\">\n",
       "      <th></th>\n",
       "      <th>Total Players</th>\n",
       "    </tr>\n",
       "  </thead>\n",
       "  <tbody>\n",
       "    <tr>\n",
       "      <th>0</th>\n",
       "      <td>573</td>\n",
       "    </tr>\n",
       "  </tbody>\n",
       "</table>\n",
       "</div>"
      ],
      "text/plain": [
       "   Total Players\n",
       "0            573"
      ]
     },
     "execution_count": 2,
     "metadata": {},
     "output_type": "execute_result"
    }
   ],
   "source": [
    "# Player Count\n",
    "def unique_players():\n",
    "    labels = \"Total Players\"\n",
    "    values = len(data['SN'].value_counts())\n",
    "    \n",
    "    df = pd.DataFrame({labels: values}, index=[0])\n",
    "    return(df)\n",
    "\n",
    "unique_players()"
   ]
  },
  {
   "cell_type": "markdown",
   "metadata": {},
   "source": [
    "### Purchasing Analysis"
   ]
  },
  {
   "cell_type": "code",
   "execution_count": 3,
   "metadata": {},
   "outputs": [
    {
     "data": {
      "text/html": [
       "<div>\n",
       "<style scoped>\n",
       "    .dataframe tbody tr th:only-of-type {\n",
       "        vertical-align: middle;\n",
       "    }\n",
       "\n",
       "    .dataframe tbody tr th {\n",
       "        vertical-align: top;\n",
       "    }\n",
       "\n",
       "    .dataframe thead th {\n",
       "        text-align: right;\n",
       "    }\n",
       "</style>\n",
       "<table border=\"1\" class=\"dataframe\">\n",
       "  <thead>\n",
       "    <tr style=\"text-align: right;\">\n",
       "      <th></th>\n",
       "      <th>Number of Unique Items</th>\n",
       "      <th>Total Purchases</th>\n",
       "      <th>Average Price</th>\n",
       "      <th>Total Revenue</th>\n",
       "    </tr>\n",
       "  </thead>\n",
       "  <tbody>\n",
       "    <tr>\n",
       "      <th>0</th>\n",
       "      <td>179</td>\n",
       "      <td>780</td>\n",
       "      <td>$2.93</td>\n",
       "      <td>$2,286.33</td>\n",
       "    </tr>\n",
       "  </tbody>\n",
       "</table>\n",
       "</div>"
      ],
      "text/plain": [
       "   Number of Unique Items  Total Purchases Average Price Total Revenue\n",
       "0                     179              780         $2.93     $2,286.33"
      ]
     },
     "execution_count": 3,
     "metadata": {},
     "output_type": "execute_result"
    }
   ],
   "source": [
    "# Total Purchases\n",
    "def purchasing_totals():\n",
    "    values = [len(data['Item Name'].value_counts()),\n",
    "                        np.mean(data['Price']),\n",
    "                        data.shape[0],\n",
    "                        np.sum(data['Price'])]\n",
    "    labels = [\"Number of Unique Items\", \"Total Purchases\", \"Average Price\", \"Total Revenue\"]\n",
    "    \n",
    "    df = pd.DataFrame({'Number of Unique Items': len(data['Item Name'].value_counts()),\n",
    "                       'Average Price':np.mean(data['Price']),\n",
    "                       'Total Purchases': data.shape[0],\n",
    "                       'Total Revenue': np.sum(data['Price'])}, index=[0])\n",
    "    df = df[labels]\n",
    "    df.iloc[:,2:] = df.iloc[:,2:].applymap('${:,.2f}'.format)\n",
    "    return(df)\n",
    "\n",
    "purchasing_totals()"
   ]
  },
  {
   "cell_type": "markdown",
   "metadata": {},
   "source": [
    "### Gender Analysis"
   ]
  },
  {
   "cell_type": "code",
   "execution_count": 4,
   "metadata": {},
   "outputs": [
    {
     "data": {
      "text/html": [
       "<div>\n",
       "<style scoped>\n",
       "    .dataframe tbody tr th:only-of-type {\n",
       "        vertical-align: middle;\n",
       "    }\n",
       "\n",
       "    .dataframe tbody tr th {\n",
       "        vertical-align: top;\n",
       "    }\n",
       "\n",
       "    .dataframe thead th {\n",
       "        text-align: right;\n",
       "    }\n",
       "</style>\n",
       "<table border=\"1\" class=\"dataframe\">\n",
       "  <thead>\n",
       "    <tr style=\"text-align: right;\">\n",
       "      <th></th>\n",
       "      <th>Count</th>\n",
       "      <th>Percent</th>\n",
       "    </tr>\n",
       "  </thead>\n",
       "  <tbody>\n",
       "    <tr>\n",
       "      <th>Male</th>\n",
       "      <td>465</td>\n",
       "      <td>0.81</td>\n",
       "    </tr>\n",
       "    <tr>\n",
       "      <th>Female</th>\n",
       "      <td>100</td>\n",
       "      <td>0.17</td>\n",
       "    </tr>\n",
       "    <tr>\n",
       "      <th>Other/Non-Disclosed</th>\n",
       "      <td>8</td>\n",
       "      <td>0.01</td>\n",
       "    </tr>\n",
       "  </tbody>\n",
       "</table>\n",
       "</div>"
      ],
      "text/plain": [
       "                     Count  Percent\n",
       "Male                   465     0.81\n",
       "Female                 100     0.17\n",
       "Other/Non-Disclosed      8     0.01"
      ]
     },
     "execution_count": 4,
     "metadata": {},
     "output_type": "execute_result"
    }
   ],
   "source": [
    "# Gender Demographics\n",
    "def gender_demo():\n",
    "\n",
    "    m = data.loc[data['Gender'] == 'Male']\n",
    "    f = data.loc[data['Gender'] == 'Female']\n",
    "    o = data.loc[data['Gender'] == 'Other / Non-Disclosed']\n",
    "    mfo = [m, f, o]\n",
    "    \n",
    "    demo = [len(i['SN'].value_counts()) for i in mfo]\n",
    "    total = np.sum(demo)\n",
    "    percent = [round(demo[i]/total, 2) for i in [0, 1, 2]]\n",
    "    \n",
    "    df = pd.DataFrame({'Count': demo, 'Percent': percent})\n",
    "    df.index = ['Male', 'Female', 'Other/Non-Disclosed']\n",
    "    return(df)\n",
    "    \n",
    "gender_demo()"
   ]
  },
  {
   "cell_type": "code",
   "execution_count": null,
   "metadata": {},
   "outputs": [],
   "source": [
    "# Purchasing Analysis (Gender)\n",
    "def purchasing_gender():\n",
    "    col = ['Purchase Count', 'Purchasing Total', 'Purchase Average', 'Normalized Total']\n",
    "    m = data.loc[data['Gender'] == 'Male']\n",
    "    f = data.loc[data['Gender'] == 'Female']\n",
    "    o = data.loc[data['Gender'] == 'Other / Non-Disclosed']\n",
    "    mp = m['Price']\n",
    "    fp = f['Price']\n",
    "    op = o['Price']\n",
    "\n",
    "    mfo = [m, f, o]\n",
    "    mfop = [mp, fp, op]\n",
    "\n",
    "    count = data['Gender'].value_counts()\n",
    "    ave = [np.mean(i) for i in mfop]\n",
    "    total = [np.sum(i) for i in mfop]\n",
    "    norm = [total[i]/count[i] for i in range(len(mfop))]\n",
    "\n",
    "    df = pd.DataFrame({'Purchase Count': count, 'Purchasing Total': total, 'Purchase Average':ave, \n",
    "                       'Normalized Total': norm})\n",
    "    df = df[col]\n",
    "    df.iloc[:,2:] = df.iloc[:,2:].applymap('${:,.2f}'.format)\n",
    "    df.index = ['Male', 'Female', 'Other/ Non-Disclosed']\n",
    "    return(df)\n",
    "\n",
    "purchasing_gender()"
   ]
  },
  {
   "cell_type": "markdown",
   "metadata": {},
   "source": []
  },
  {
   "cell_type": "markdown",
   "metadata": {},
   "source": [
    "### Age Analysis"
   ]
  },
  {
   "cell_type": "code",
   "execution_count": null,
   "metadata": {},
   "outputs": [],
   "source": [
    "def age():\n",
    "    labels = ['Purchase Count', 'Average Price', 'Total Purchase Value', 'Normalized Total Price']\n",
    "    bins = [0, 10, 15, 20, 25, 30, 35, 40, 45]\n",
    "    bin_names = range(8)\n",
    "    data['Age Cat'] = pd.cut(data['Age'], bins, labels = bin_names)\n",
    "    \n",
    "    purchases = list(data['Age Cat'].value_counts().sort_index())\n",
    "    ave_price = list(data.groupby('Age Cat')['Price'].mean())\n",
    "    total_price = list(data.groupby('Age Cat')['Price'].sum())\n",
    "    norm_tp = [total_price[i]/ purchases[i] for i in range(8)]\n",
    "    \n",
    "    df = pd.DataFrame()\n",
    "    df['Purchase Count'] = purchases\n",
    "    df['Average Price']=ave_price\n",
    "    df['Total Purchase Value']=total_price\n",
    "    df['Normalized Total Price'] = norm_tp\n",
    "    \n",
    "    df.iloc[:,1:4] = df.iloc[:, 1:4].applymap('${:.2f}'.format)\n",
    "\n",
    "    df.index = ['<10', '10-14', '15-19', '20-24', '25-29', '30-34', '34-39', '40+']\n",
    "    return(df)\n",
    "\n",
    "age()"
   ]
  },
  {
   "cell_type": "markdown",
   "metadata": {},
   "source": [
    "### Top Spending"
   ]
  },
  {
   "cell_type": "code",
   "execution_count": null,
   "metadata": {},
   "outputs": [],
   "source": [
    "def top_spending():    \n",
    "    col = ['SN', 'Purchase Count', 'Average Purchase Price', 'Total Purchase Price']\n",
    "    df = pd.DataFrame(np.sum(data.groupby('SN')['Price'])).reset_index()\n",
    "    df = df.sort_values('Price', ascending=False)\n",
    "\n",
    "    SN = list(df.head()['SN'])\n",
    "    counts = [data[data['SN'] == SN[i]].shape[0] for i in range(len(SN))]\n",
    "    total = list(df.head().loc[:,'Price'])\n",
    "\n",
    "    counts = np.array(counts)\n",
    "    total = np.array(total)\n",
    "    average = total/counts\n",
    "\n",
    "\n",
    "    df = pd.DataFrame({'SN': SN, 'Purchase Count': counts, 'Total Purchase Value': total,\n",
    "                       'Average Purchase Price': average})\n",
    "    df = df[['SN', 'Purchase Count', 'Total Purchase Value', 'Average Purchase Price']]\n",
    "    \n",
    "    df.iloc[:,2:] = df.iloc[:, 2:].applymap('${:.2f}'.format)\n",
    "    return(df)\n",
    "\n",
    "top_spending()"
   ]
  },
  {
   "cell_type": "markdown",
   "metadata": {},
   "source": [
    "### Popular Items"
   ]
  },
  {
   "cell_type": "code",
   "execution_count": null,
   "metadata": {},
   "outputs": [],
   "source": [
    "def pop_items():\n",
    "    # Returns DataFrame containing column headers:\n",
    "    col = ['Item ID', 'Item Name', 'Purchase Count', 'Item Price', 'Total Purchase Value']\n",
    "\n",
    "    # Calculating values for df\n",
    "    series = data['Item ID'].value_counts().head()\n",
    "    items = list(series.index)\n",
    "\n",
    "    temp = data[data['Item ID'].isin(items)]\n",
    "    counts = np.array(temp['Item ID'].value_counts())\n",
    "    names = list(temp['Item Name'].value_counts().index)\n",
    "\n",
    "    total = [np.sum(temp[temp['Item ID'] == items[i]]['Price']) for i in range(len(items))]\n",
    "    price = [temp[temp['Item ID'] == items[i]].reset_index().loc[0,'Price'] for i in range(len(items))]\n",
    "\n",
    "    # Formatting DataFrame\n",
    "    df = pd.DataFrame({'Item ID':items, 'Item Name': names, 'Purchase Count': counts, 'Item Price':price,\n",
    "                 'Total Purchase Value': total})\n",
    "    df = df[col]\n",
    "    df.iloc[:,3:] = df.iloc[:, 3:].applymap('${:.2f}'.format)\n",
    "    \n",
    "    return(df)\n",
    "\n",
    "pop_items()"
   ]
  },
  {
   "cell_type": "markdown",
   "metadata": {},
   "source": [
    "### Profitable Items"
   ]
  },
  {
   "cell_type": "code",
   "execution_count": null,
   "metadata": {},
   "outputs": [],
   "source": [
    "def prof_items():\n",
    "    col = ['Item ID', 'Item Name', 'Purchase Count', 'Item Price', 'Total Purchase Value']\n",
    "\n",
    "    df = pd.DataFrame(np.sum(data.groupby('Item ID')['Price'])).reset_index()\n",
    "    df = df.sort_values('Price', ascending = False)\n",
    "\n",
    "    items = list(df.head()['Item ID'])\n",
    "    counts = [data[data['Item ID'] == items[i]].shape[0] for i in range(len(items))]\n",
    "\n",
    "    temp = data[data['Item ID'].isin(items)]\n",
    "    names = list(temp['Item Name'].value_counts().index)\n",
    "\n",
    "    total = list(df.head().loc[:,'Price'])\n",
    "    price = [temp[temp['Item ID'] == items[i]].reset_index().loc[0, 'Price'] for i in range(len(items))]\n",
    "\n",
    "    df = pd.DataFrame({'Item ID': items, 'Item Name': names, 'Purchase Count':counts, 'Item Price':price,\n",
    "                     'Total Purchase Value':total})\n",
    "    df = df[col]\n",
    "    df.iloc[:,3:] = df.iloc[:,3:].applymap('${:.2f}'.format)\n",
    "    return(df)\n",
    "\n",
    "prof_items()"
   ]
  },
  {
   "cell_type": "markdown",
   "metadata": {},
   "source": []
  }
 ],
 "metadata": {
  "kernelspec": {
   "display_name": "Python 3",
   "language": "python",
   "name": "python3"
  },
  "language_info": {
   "codemirror_mode": {
    "name": "ipython",
    "version": 3
   },
   "file_extension": ".py",
   "mimetype": "text/x-python",
   "name": "python",
   "nbconvert_exporter": "python",
   "pygments_lexer": "ipython3",
   "version": "3.6.4"
  }
 },
 "nbformat": 4,
 "nbformat_minor": 2
}
